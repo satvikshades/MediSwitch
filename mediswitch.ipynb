import pandas as pd
import numpy as np

data = pd.read_csv("medicine-2.csv")

data.head()

data.shape


data.isnull().sum()
data.duplicated().sum()
data.dropna(inplace=True)

data.describe()

data['Description']

data['Description']=data['Description'].apply(lambda x: x.split())

data['Reason']= data['Reason'].apply(lambda x: x.split())

data.head()

data['Description'] = data['Description'].apply(lambda x: [i.replace(" ","") for i in x])

data.head()

data['tags'] = data['Description']+data['Reason']

data.head()

new_data = data[['index','Drug_Name','tags']]

new_data.head()

new_data['tags'] = new_data['tags'].apply(lambda x : " ".join(x)) 

new_data.head()

new_data['tags'] = new_data['tags'].apply(lambda x : x.lower()) 

new_data.head()

import nltk
from nltk.stem.porter import PorterStemmer
ps = PorterStemmer()

from sklearn.feature_extraction.text import CountVectorizer
cv = CountVectorizer(stop_words="english", max_features=5000)

def stem(text):
    y=[]
    for i in text.split():
        y.append(ps.stem(i))
    return " ".join(y)        

stem("you are so beautiful")

new_data['tags'] = new_data['tags'].apply(stem)

new_data.head()

vectors = cv.fit_transform(new_data['tags']).toarray()
vectors.reshape(-1,1)

cv.get_feature_names_out()

from sklearn.metrics.pairwise import cosine_similarity

similarity = cosine_similarity(vectors)

similarity[1]

def recommendation(medicine):
    medicine_index= new_data[new_data['Drug_Name']==medicine].index[0]
    distance=similarity[medicine_index]
    medicine_list=sorted(list(enumerate(distance)),reverse=True, key = lambda x: x[1])[1:6]
    for i in medicine_list:
        print(new_data.iloc[i[0]].Drug_Name)

recommendation("A CN Gel(Topical) 20gmA CN Soap 75gm")

recommendation('ACGEL CL NANO Gel 15gm')

import pickle 
pickle.dump(new_data.to_dict(),open("medicine_dict.pkl","wb"))
pickle.dump(similarity,open("similarity.pkl","wb"))
